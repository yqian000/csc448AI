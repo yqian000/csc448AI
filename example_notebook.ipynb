{
 "cells": [
  {
   "cell_type": "markdown",
   "id": "68873e8c",
   "metadata": {},
   "source": [
    "<a href=\"https://colab.research.google.com/github/yqian000/csc448AI/blob/main/example_notebook.ipynb\" target=\"_parent\"><img src=\"https://colab.research.google.com/assets/colab-badge.svg\" alt=\"Open In Colab\"/></a>"
   ]
  },
  {
   "cell_type": "markdown",
   "id": "f1cd952a",
   "metadata": {},
   "source": [
    "# Notebook Practice:   heart disease prediction using logistic regression\n"
   ]
  },
  {
   "cell_type": "markdown",
   "id": "65d16735",
   "metadata": {},
   "source": [
    "## Setup and Imports"
   ]
  },
  {
   "cell_type": "markdown",
   "id": "a11985c8",
   "metadata": {},
   "source": [
    "The following modules need to be installed in order to run this notebook live:  \n",
    "* matplotlib  \n",
    "* pandas  \n",
    "* numpy  \n",
    "* sklearn"
   ]
  },
  {
   "cell_type": "code",
   "execution_count": 1,
   "id": "d574cbc4",
   "metadata": {},
   "outputs": [],
   "source": [
    "# importing all necessery modules \n",
    "import pandas as pd\n",
    "import numpy as np\n",
    "from matplotlib import pyplot as plt\n",
    "from sklearn.model_selection import train_test_split\n",
    "from sklearn.preprocessing import StandardScaler\n",
    "from sklearn.linear_model import LogisticRegression\n",
    "from sklearn.metrics import log_loss\n",
    "from sklearn.metrics import accuracy_score"
   ]
  },
  {
   "cell_type": "markdown",
   "id": "9be9fe3b",
   "metadata": {},
   "source": [
    "You will also need to download the data file `heart.csv`"
   ]
  },
  {
   "cell_type": "markdown",
   "id": "b963a48c",
   "metadata": {},
   "source": [
    "## Problem: Predicting heart disease using logistic regression  \n",
    "### Part 1: Build the learning model  \n",
    "Explore the heart disease data"
   ]
  },
  {
   "cell_type": "code",
   "execution_count": 2,
   "id": "5afa3ed5",
   "metadata": {},
   "outputs": [
    {
     "data": {
      "text/html": [
       "<div>\n",
       "<style scoped>\n",
       "    .dataframe tbody tr th:only-of-type {\n",
       "        vertical-align: middle;\n",
       "    }\n",
       "\n",
       "    .dataframe tbody tr th {\n",
       "        vertical-align: top;\n",
       "    }\n",
       "\n",
       "    .dataframe thead th {\n",
       "        text-align: right;\n",
       "    }\n",
       "</style>\n",
       "<table border=\"1\" class=\"dataframe\">\n",
       "  <thead>\n",
       "    <tr style=\"text-align: right;\">\n",
       "      <th></th>\n",
       "      <th>Age</th>\n",
       "      <th>Oldpeak</th>\n",
       "      <th>MaxHR</th>\n",
       "      <th>HeartDisease</th>\n",
       "    </tr>\n",
       "  </thead>\n",
       "  <tbody>\n",
       "    <tr>\n",
       "      <th>0</th>\n",
       "      <td>40</td>\n",
       "      <td>0.0</td>\n",
       "      <td>172</td>\n",
       "      <td>0</td>\n",
       "    </tr>\n",
       "    <tr>\n",
       "      <th>1</th>\n",
       "      <td>49</td>\n",
       "      <td>1.0</td>\n",
       "      <td>156</td>\n",
       "      <td>1</td>\n",
       "    </tr>\n",
       "    <tr>\n",
       "      <th>2</th>\n",
       "      <td>37</td>\n",
       "      <td>0.0</td>\n",
       "      <td>98</td>\n",
       "      <td>0</td>\n",
       "    </tr>\n",
       "    <tr>\n",
       "      <th>3</th>\n",
       "      <td>48</td>\n",
       "      <td>1.5</td>\n",
       "      <td>108</td>\n",
       "      <td>1</td>\n",
       "    </tr>\n",
       "    <tr>\n",
       "      <th>4</th>\n",
       "      <td>54</td>\n",
       "      <td>0.0</td>\n",
       "      <td>122</td>\n",
       "      <td>0</td>\n",
       "    </tr>\n",
       "  </tbody>\n",
       "</table>\n",
       "</div>"
      ],
      "text/plain": [
       "   Age  Oldpeak  MaxHR  HeartDisease\n",
       "0   40      0.0    172             0\n",
       "1   49      1.0    156             1\n",
       "2   37      0.0     98             0\n",
       "3   48      1.5    108             1\n",
       "4   54      0.0    122             0"
      ]
     },
     "execution_count": 2,
     "metadata": {},
     "output_type": "execute_result"
    }
   ],
   "source": [
    "# Load the heart disease dataset:\n",
    "columns = ['Age', 'Oldpeak', 'MaxHR', 'HeartDisease']\n",
    "heart_disease_dataframe = pd.read_csv(r\"heart.csv\")[columns]\n",
    "heart_disease_dataframe.head()"
   ]
  },
  {
   "cell_type": "markdown",
   "id": "4df699ad",
   "metadata": {},
   "source": [
    "Prepare train and test dataset:"
   ]
  },
  {
   "cell_type": "code",
   "execution_count": 3,
   "id": "daec2402",
   "metadata": {
    "scrolled": true
   },
   "outputs": [],
   "source": [
    "# Select out X and Y\n",
    "X_hd = heart_disease_dataframe[['Age', 'Oldpeak', 'MaxHR']].values\n",
    "y_hd = heart_disease_dataframe['HeartDisease'].values\n",
    "\n",
    "# Apply standard scaler to X.\n",
    "X_hd = StandardScaler().fit_transform(X_hd)\n",
    "\n",
    "# Train and test dataset for this problem.\n",
    "X_train_hd, X_test_hd, y_train_hd, y_test_hd = train_test_split(X_hd, y_hd, test_size=0.30, random_state=42)"
   ]
  },
  {
   "cell_type": "markdown",
   "id": "56696878",
   "metadata": {},
   "source": [
    "### Part 2: Analysis"
   ]
  },
  {
   "cell_type": "code",
   "execution_count": 4,
   "id": "4be06503",
   "metadata": {},
   "outputs": [
    {
     "name": "stdout",
     "output_type": "stream",
     "text": [
      "Weights learned with sklearn LogisticRegression: [array([0.23082056]), array([[ 0.20232843,  0.95339757, -0.79996645]])]\n"
     ]
    }
   ],
   "source": [
    "model = LogisticRegression().fit(X_train_hd, y_train_hd)\n",
    "w = [model.intercept_, model.coef_]\n",
    "\n",
    "print(f\"Weights learned with sklearn LogisticRegression: {w}\")"
   ]
  },
  {
   "cell_type": "code",
   "execution_count": 5,
   "id": "f401a8c0",
   "metadata": {},
   "outputs": [
    {
     "name": "stdout",
     "output_type": "stream",
     "text": [
      "Log loss for sklearn LogisticRegression: Train: 8.71549056724691, Test: 9.385641359151407\n"
     ]
    }
   ],
   "source": [
    "y_train_hd_pred = model.predict(X_train_hd)\n",
    "train_loss = log_loss(y_train_hd, y_train_hd_pred)\n",
    "y_test_hd_pred = model.predict(X_test_hd)\n",
    "test_loss = log_loss(y_test_hd, y_test_hd_pred)\n",
    "\n",
    "print(f\"Log loss for sklearn LogisticRegression: Train: {train_loss}, Test: {test_loss}\")"
   ]
  },
  {
   "cell_type": "code",
   "execution_count": 6,
   "id": "3509ec04",
   "metadata": {},
   "outputs": [
    {
     "name": "stdout",
     "output_type": "stream",
     "text": [
      "Accuracy Train: 74.77%, Accuracy Test: 72.83%\n"
     ]
    }
   ],
   "source": [
    "train_accuracy = accuracy_score(y_train_hd, y_train_hd_pred)\n",
    "test_accuracy = accuracy_score(y_test_hd, y_test_hd_pred)\n",
    "print(f\"Accuracy Train: {train_accuracy*100:.2f}%, Accuracy Test: {test_accuracy*100:.2f}%\")"
   ]
  },
  {
   "cell_type": "markdown",
   "id": "793a93e0",
   "metadata": {},
   "source": [
    "## Code explanation  \n",
    "The above code consists of two parts:  \n",
    "\n",
    "Part 1: Prepared the training and testing dataset and built the model using `LogisticRegression` from scikit learn package.  \n",
    "The dataset consists of 4 columns: 'Age', 'Oldpeak', 'MaxHR', 'HeartDiseasei, in which the first three columns are heart disease factos and the last column indicates whether the person has heart disease or not. The `train_test_split` fucntion is called which splits the dataset into training and testing.  \n",
    "\n",
    "Part 2: Analyzed the log loss and accuracy of the logistic regression model.  \n",
    "I trained the model using `LogisticRegression().fit` on the trainind dataset. The log loss is analyzed using the `log_loss` function and accuracy is analyzed using the `accuracy_score` function."
   ]
  },
  {
   "cell_type": "markdown",
   "id": "6a92862d",
   "metadata": {},
   "source": [
    "![img.jpeg](./img.jpeg)"
   ]
  }
 ],
 "metadata": {
  "kernelspec": {
   "display_name": "Python 3 (ipykernel)",
   "language": "python",
   "name": "python3"
  },
  "language_info": {
   "codemirror_mode": {
    "name": "ipython",
    "version": 3
   },
   "file_extension": ".py",
   "mimetype": "text/x-python",
   "name": "python",
   "nbconvert_exporter": "python",
   "pygments_lexer": "ipython3",
   "version": "3.9.1"
  }
 },
 "nbformat": 4,
 "nbformat_minor": 5
}
